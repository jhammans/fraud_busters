{
  "cells": [
    {
      "cell_type": "markdown",
      "metadata": {
        "id": "view-in-github",
        "colab_type": "text"
      },
      "source": [
        "<a href=\"https://colab.research.google.com/github/jhammans/fraud_busters/blob/David/Deep_Learning_Model.ipynb\" target=\"_parent\"><img src=\"https://colab.research.google.com/assets/colab-badge.svg\" alt=\"Open In Colab\"/></a>"
      ]
    },
    {
      "cell_type": "code",
      "execution_count": null,
      "metadata": {
        "id": "c9ccbc34"
      },
      "outputs": [],
      "source": [
        "\n",
        "from google.colab import drive\n",
        "drive.mount('/content/drive')\n"
      ]
    },
    {
      "cell_type": "code",
      "execution_count": null,
      "metadata": {
        "id": "6dd9fc2a"
      },
      "outputs": [],
      "source": [
        "\n",
        "import os\n",
        "\n",
        "# Update the file path based on where the CSV file is stored in your Google Drive\n",
        "file_path = '/content/drive/My Drive/Resources/fraudTrain.csv'\n",
        "\n",
        "# Ensure the file exists before proceeding\n",
        "if not os.path.exists(file_path):\n",
        "    raise FileNotFoundError(f\"File not found: {file_path}\")\n"
      ]
    },
    {
      "cell_type": "code",
      "execution_count": null,
      "metadata": {
        "id": "wCWTyOevVi_v"
      },
      "outputs": [],
      "source": [
        "import pandas as pd\n",
        "from sklearn.preprocessing import LabelEncoder, MinMaxScaler\n",
        "from sklearn.model_selection import train_test_split\n",
        "from tensorflow.keras.models import Model\n",
        "from tensorflow.keras.layers import Input, Dense\n",
        "import numpy as np\n",
        "from sklearn.metrics import classification_report"
      ]
    },
    {
      "cell_type": "code",
      "execution_count": null,
      "metadata": {
        "id": "a2gkZ2FHVi_v"
      },
      "outputs": [],
      "source": [
        "df = pd.read_csv('/content/drive/My Drive/Resources/fraudTrain.csv')\n",
        "df.head()"
      ]
    },
    {
      "cell_type": "code",
      "execution_count": null,
      "metadata": {
        "id": "_ZlCj61qVi_v"
      },
      "outputs": [],
      "source": [
        "if 'category' in df.columns:\n",
        "    le_category = LabelEncoder()\n",
        "    df['category'] = le_category.fit_transform(df['category'])\n",
        "\n",
        "if 'gender' in df.columns:\n",
        "    le_gender = LabelEncoder()\n",
        "    df['gender'] = le_gender.fit_transform(df['gender'])"
      ]
    },
    {
      "cell_type": "code",
      "execution_count": null,
      "metadata": {
        "id": "8AniHUhVVi_w"
      },
      "outputs": [],
      "source": [
        "relevant_columns = ['category', 'amt', 'lat', 'long', 'gender', 'city_pop', 'merch_lat', 'merch_long', 'is_fraud']\n",
        "df_filtered = df[relevant_columns]"
      ]
    },
    {
      "cell_type": "code",
      "execution_count": null,
      "metadata": {
        "id": "5ao12DN_Vi_w"
      },
      "outputs": [],
      "source": [
        "scaler = MinMaxScaler()\n",
        "features = df_filtered.drop('is_fraud', axis=1)\n",
        "normalized_features = scaler.fit_transform(features)"
      ]
    },
    {
      "cell_type": "code",
      "execution_count": null,
      "metadata": {
        "id": "iEwPiZHaVi_w"
      },
      "outputs": [],
      "source": [
        "df_normalized = pd.DataFrame(normalized_features, columns=features.columns)"
      ]
    },
    {
      "cell_type": "code",
      "execution_count": null,
      "metadata": {
        "id": "gvIuZqG9Vi_w"
      },
      "outputs": [],
      "source": [
        "df_normalized['is_fraud'] = df_filtered['is_fraud']"
      ]
    },
    {
      "cell_type": "code",
      "execution_count": null,
      "metadata": {
        "id": "RCEeBYCPVi_w"
      },
      "outputs": [],
      "source": [
        "normal_data = df_normalized[df_normalized['is_fraud'] == 0].drop('is_fraud', axis=1)\n",
        "fraud_data = df_normalized[df_normalized['is_fraud'] == 1].drop('is_fraud', axis=1)"
      ]
    },
    {
      "cell_type": "code",
      "execution_count": null,
      "metadata": {
        "id": "yqeHQZI8Vi_w"
      },
      "outputs": [],
      "source": [
        "train_data, val_data = train_test_split(normal_data, test_size=0.2, random_state=42)"
      ]
    },
    {
      "cell_type": "code",
      "execution_count": null,
      "metadata": {
        "id": "20mafpnEVi_w"
      },
      "outputs": [],
      "source": [
        "input_dim = train_data.shape[1]\n",
        "encoding_dim = 10"
      ]
    },
    {
      "cell_type": "code",
      "execution_count": null,
      "metadata": {
        "id": "fwmbhuhBVi_x"
      },
      "outputs": [],
      "source": [
        "input_layer = Input(shape=(input_dim,))\n",
        "encoded = Dense(encoding_dim, activation='relu')(input_layer)\n",
        "decoded = Dense(input_dim, activation='sigmoid')(encoded)"
      ]
    },
    {
      "cell_type": "code",
      "execution_count": null,
      "metadata": {
        "id": "hmaHe3lEVi_x"
      },
      "outputs": [],
      "source": [
        "autoencoder = Model(inputs=input_layer, outputs=decoded)\n",
        "autoencoder.compile(optimizer='adam', loss='mse')"
      ]
    },
    {
      "cell_type": "code",
      "execution_count": null,
      "metadata": {
        "id": "fNmvzxn7Vi_x"
      },
      "outputs": [],
      "source": [
        "autoencoder.fit(\n",
        "    train_data,\n",
        "    train_data,\n",
        "    epochs=50,\n",
        "    batch_size=32,\n",
        "    shuffle=True,\n",
        "    validation_data=(val_data, val_data)\n",
        ")"
      ]
    },
    {
      "cell_type": "code",
      "execution_count": null,
      "metadata": {
        "id": "xlgRhqPMVi_x"
      },
      "outputs": [],
      "source": [
        "reconstructions = autoencoder.predict(df_normalized.drop('is_fraud', axis=1))\n",
        "reconstruction_error = np.mean(np.square(reconstructions - df_normalized.drop('is_fraud', axis=1)), axis=1)"
      ]
    },
    {
      "cell_type": "code",
      "execution_count": null,
      "metadata": {
        "id": "wmqF8H-bVi_x"
      },
      "outputs": [],
      "source": [
        "threshold = np.percentile(reconstruction_error, 95)"
      ]
    },
    {
      "cell_type": "code",
      "execution_count": null,
      "metadata": {
        "id": "7keCwwGNVi_x"
      },
      "outputs": [],
      "source": [
        "df_normalized['anomaly'] = reconstruction_error > threshold"
      ]
    },
    {
      "cell_type": "code",
      "execution_count": null,
      "metadata": {
        "id": "ryxJfYT5Vi_x"
      },
      "outputs": [],
      "source": [
        "print(classification_report(df_normalized['is_fraud'], df_normalized['anomaly']))"
      ]
    },
    {
      "cell_type": "code",
      "execution_count": null,
      "metadata": {
        "id": "qEXy0NunVi_x"
      },
      "outputs": [],
      "source": [
        "print(df_normalized[['is_fraud', 'anomaly']].value_counts())"
      ]
    }
  ],
  "metadata": {
    "kernelspec": {
      "display_name": "base",
      "language": "python",
      "name": "python3"
    },
    "language_info": {
      "codemirror_mode": {
        "name": "ipython",
        "version": 3
      },
      "file_extension": ".py",
      "mimetype": "text/x-python",
      "name": "python",
      "nbconvert_exporter": "python",
      "pygments_lexer": "ipython3",
      "version": "3.12.3"
    },
    "colab": {
      "provenance": [],
      "include_colab_link": true
    }
  },
  "nbformat": 4,
  "nbformat_minor": 0
}